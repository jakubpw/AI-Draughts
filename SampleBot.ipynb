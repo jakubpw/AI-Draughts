{
 "cells": [
  {
   "cell_type": "code",
   "execution_count": 1,
   "id": "75fa8a2a",
   "metadata": {
    "pycharm": {
     "name": "#%%\n"
    }
   },
   "outputs": [],
   "source": [
    "from _operator import attrgetter\n",
    "import math\n",
    "\n",
    "from PIL import Image, ImageColor\n",
    "import IPython.display\n",
    "\n",
    "from Position import Position\n",
    "from Piece import Piece\n",
    "from Board import Board\n",
    "from Game import Game\n",
    "import random\n",
    "\n",
    "\n",
    "# See Game.py to check, how an implementation of a bot should look like so that it can play games in Engine\n",
    "\n",
    "# A simple bot, which chooses the first white piece and moves it one field forward-right,\n",
    "# without checking if it's a correct move.\n",
    "# It usually looses after a few moves when it attempts to make an incorrect move\n",
    "class SampleBot:\n",
    "    def make_move(self, board):\n",
    "        piece = board.whites[0]\n",
    "        return [piece.position(), piece.position().add(1, 1)]\n",
    "\n",
    "\n",
    "class SampleBotOne:\n",
    "    def make_move(self, board):\n",
    "        if len(board.whites) > 0:\n",
    "            piece = board.whites[1]\n",
    "        else:\n",
    "            piece = board.whites[0]\n",
    "        return [piece.position(), piece.position().add(1, 1)]\n",
    "\n",
    "class AlfaBetaBot0:\n",
    "    def __init__(self, max_depth):\n",
    "        self.max_depth = max_depth\n",
    "    def heuristic_state_value(self, board):\n",
    "        white_kings = 0.0\n",
    "        black_kings = 0.0\n",
    "        for white in board.whites:\n",
    "            white_kings += white.king\n",
    "        for black in board.blacks:\n",
    "            black_kings += black.king\n",
    "        kings = black_kings + white_kings\n",
    "        return (len(board.whites) + white_kings) / (len(board.whites) + len(board.blacks) + kings)\n",
    "\n",
    "    def alfa_beta(self, board, depth = 0, best = 0.0, worse = 1.0):\n",
    "        if depth == self.max_depth:\n",
    "            return self.heuristic_state_value(board)\n",
    "        if depth % 2 == 0:\n",
    "            value = 0.0\n",
    "            res_move = []\n",
    "            sorted_moves = ((self.heuristic_state_value(board.make_move(move)), move) for move in board.possible_moves())\n",
    "            sorted_moves = sorted(sorted_moves, key=lambda x: 1 - x[0])\n",
    "            for (_, move) in sorted_moves:\n",
    "                child_value = self.alfa_beta(board.make_move(move), depth + 1, best, worse)\n",
    "                best = max(best, child_value)\n",
    "                if child_value >= worse:\n",
    "                    value = child_value\n",
    "                    res_move = move\n",
    "                    break\n",
    "                if child_value >= value:\n",
    "                    if child_value > value or len(res_move) == 0:\n",
    "                        res_move = move\n",
    "                    value = child_value\n",
    "        else:\n",
    "            value = 1.0\n",
    "            res_move = []\n",
    "            sorted_moves = ((self.heuristic_state_value(board.make_move(move)), move) for move in board.possible_moves())\n",
    "            sorted_moves = sorted(sorted_moves, key=lambda x: x[0])\n",
    "            for (_, move) in sorted_moves:\n",
    "                child_value = self.alfa_beta(board.make_move(move), depth + 1, best, worse)\n",
    "                worse = min(worse, child_value)\n",
    "                if child_value <= best:\n",
    "                    value = child_value\n",
    "                    res_move = move\n",
    "                    break\n",
    "                if child_value <= value:\n",
    "                    if child_value < value or len(res_move) == 0:\n",
    "                        res_move = move\n",
    "                    value = child_value\n",
    "        if depth == 0:\n",
    "            return res_move\n",
    "        return value\n",
    "    def make_move(self, state):\n",
    "        return self.alfa_beta(state)\n",
    "\n",
    "class AlfaBetaBot:\n",
    "    def __init__(self):\n",
    "        self.max_depth = 4\n",
    "    def heuristic_state_value(self, board):\n",
    "        score = 0\n",
    "        num_pieces = 0\n",
    "        for white in board.whites:\n",
    "            num_pieces += 1\n",
    "            score += 5\n",
    "            if white.king:\n",
    "                score += 20\n",
    "            else:\n",
    "                score += white.y/15\n",
    "        for black in board.blacks:\n",
    "            num_pieces += 1\n",
    "            score -= 5\n",
    "            if black.king:\n",
    "                score -= 20\n",
    "            else:\n",
    "                score -= black.y/15\n",
    "        return score / num_pieces\n",
    "    def possible_captures(self, board, king, position, captures_moves_list):\n",
    "        ans = []\n",
    "        if not king:\n",
    "            possible_y = [1]\n",
    "            if len(captures_moves_list) > 1:\n",
    "                possible_y.append(-1)\n",
    "            for j in possible_y:\n",
    "                for i in [-1, 1]:\n",
    "                    if board.isBlack(position.add(j, i)):\n",
    "                        if board.isEmpty(position.add(j * 2, 2 * i)):\n",
    "                            new_position = position.add(j * 2, 2 * i)\n",
    "                            new_board = board.make_single_move(position, new_position, True, False)\n",
    "                            captures_moves_list.append(new_position)\n",
    "                            ans += [captures_moves_list.copy()]\n",
    "                            ans += self.possible_captures(new_board, king, new_position, captures_moves_list)\n",
    "                            captures_moves_list.pop()\n",
    "\n",
    "        else:\n",
    "            for xi in [-1, 1]:\n",
    "                for yi in [-1, 1]:\n",
    "                    where = position.add(yi, xi)\n",
    "                    while board.isEmpty(where):\n",
    "                        where = where.add(yi, xi)\n",
    "                    if board.isBlack(where) and board.isEmpty(where.add(yi, xi)):\n",
    "                        where = where.add(yi, xi)\n",
    "                        new_position = where\n",
    "                        while board.isEmpty(where):\n",
    "                            ans += [captures_moves_list + [where]]\n",
    "                            where = where.add(yi, xi)\n",
    "                        new_board = board.make_single_move(position, new_position, True, False)\n",
    "                        captures_moves_list.append(new_position)\n",
    "                        ans += self.possible_captures(new_board, king, new_position, captures_moves_list)\n",
    "                        captures_moves_list.pop()\n",
    "        return ans\n",
    "\n",
    "    def possible_moves(self, board):\n",
    "        moves = []\n",
    "        if board.capture_possible():\n",
    "            for white in board.whites:\n",
    "                moves += self.possible_captures(board, white.king, white.position(), [white.position()])\n",
    "        else:\n",
    "            for white in board.whites:\n",
    "                if not white.king:\n",
    "                    for i in [-1, 1]:\n",
    "                        if board.isEmpty(white.position().add(1, i)):\n",
    "                            moves += [[white.position(), white.position().add(1, i)]]\n",
    "                else:\n",
    "                    for xi in [-1, 1]:\n",
    "                        for yi in [-1, 1]:\n",
    "                            where = white.position().add(yi, xi)\n",
    "                            while board.isEmpty(where):\n",
    "                                moves += [[white.position(), where]]\n",
    "                                where = where.add(yi, xi)\n",
    "        return moves\n",
    "\n",
    "    def alfa_beta_first(self, board):\n",
    "        sorted_moves = [(self.heuristic_state_value(board.make_move(move)), move) for move in self.possible_moves(board)]\n",
    "        sorted_moves.sort(key=lambda x: (x[0] * (-1)))\n",
    "        value = -float(\"inf\")\n",
    "        res_move = []\n",
    "        for (_, move) in sorted_moves:\n",
    "            child_value = self.alfa_beta(board.make_move(move), 1, value)\n",
    "            if child_value > value:\n",
    "                res_move = move\n",
    "                value = child_value\n",
    "        return res_move\n",
    "\n",
    "    def alfa_beta(self, board, depth = 0, best = -float(\"inf\"), worse = float(\"inf\")):\n",
    "        if depth == self.max_depth:\n",
    "            return self.heuristic_state_value(board)\n",
    "        if depth % 2 == 0:\n",
    "            value = -float(\"inf\")\n",
    "            for move in self.possible_moves(board):\n",
    "                child_value = self.alfa_beta(board.make_move(move), depth + 1, best, worse)\n",
    "                best = max(best, child_value)\n",
    "                value = max(value, child_value)\n",
    "                if best >= worse:\n",
    "                    break\n",
    "        else:\n",
    "            value = float(\"inf\")\n",
    "            for move in self.possible_moves(board):\n",
    "                child_value = self.alfa_beta(board.make_move(move), depth + 1, best, worse)\n",
    "                worse = min(worse, child_value)\n",
    "                value = min(value, child_value)\n",
    "                if best >= worse:\n",
    "                    break\n",
    "        return value\n",
    "    def make_move(self, state):\n",
    "        return self.alfa_beta_first(state)\n",
    "\n",
    "class MinMaxBot:\n",
    "    def __init__(self, max_depth):\n",
    "        self.max_depth = max_depth\n",
    "    def heuristic_state_value(self, board):\n",
    "        return len(board.whites) / (len(board.whites) + len(board.blacks))\n",
    "    def min_max(self, board, depth):\n",
    "        if depth == self.max_depth:\n",
    "            return 1 - self.heuristic_state_value(board)\n",
    "        value = 0\n",
    "        res_move = []\n",
    "        for move in board.possible_moves():\n",
    "            child_value = 1 - self.min_max(board.make_move(move), depth + 1)\n",
    "            if child_value >= value:\n",
    "                value = child_value\n",
    "                if child_value > value or len(res_move) == 0 or random.randint(1, 10) > 5:\n",
    "                    res_move = move\n",
    "        if depth == 0:\n",
    "            return res_move\n",
    "        return value\n",
    "    def make_move(self, state):\n",
    "        return self.min_max(state, 0)\n",
    "# moves = board.possible_moves()\n",
    "# for move in moves:\n",
    "#     print(move)\n",
    "#     board.revert().show()\n",
    "#     board.make_move(move).show()"
   ]
  },
  {
   "cell_type": "code",
   "execution_count": 2,
   "id": "20c42211",
   "metadata": {
    "pycharm": {
     "name": "#%%\n"
    }
   },
   "outputs": [],
   "source": [
    "# # Suppose you have a class SampleBot and want to play againt it. Run:\n",
    "# bot = MinMaxBot(4)\n",
    "# game = Game(bot, None)\n",
    "# game.play_human(False, True)\n",
    "\n",
    "# When you are asked to specify your move in a textfield, specify it similarly as in a bot.\n",
    "# However, don't wrap the locations into Positions class or a list - just list the numbers.\n",
    "# For instance, to move from position (2, 0) to position (3, 1) just type: 2 0 3 1\n",
    "# Also, remember that we firstly specify the row number and then the column number\n",
    "# and that the upper-left field is (0, 0)\n",
    "# board = Board()\n",
    "# board = board.empty_board()\n",
    "# board.world[1][3] = board.newWhite(1,3, True)\n",
    "# board.world[2][2] = board.newBlack(2,2)\n",
    "# board.world[2][4] = board.newBlack(2,4)\n",
    "# board.world[4][4] = board.newBlack(4,4)\n",
    "# board.world[4][2] = board.newBlack(4,2)\n",
    "# moves = board.possible_moves()\n",
    "# for move in moves:\n",
    "#     board.revert().show()\n",
    "#     board.make_move(move).show()"
   ]
  },
  {
   "cell_type": "code",
   "execution_count": 3,
   "id": "0dad9402",
   "metadata": {
    "pycharm": {
     "is_executing": true,
     "name": "#%%\n"
    },
    "scrolled": false
   },
   "outputs": [
    {
     "data": {
      "image/png": "[encoded data removed]",
      "text/plain": [
       "<PIL.Image.Image image mode=RGB size=400x400 at 0x10D5DF8E0>"
      ]
     },
     "metadata": {},
     "output_type": "display_data"
    },
    {
     "name": "stdout",
     "output_type": "stream",
     "text": [
      "draw\n"
     ]
    },
    {
     "ename": "RuntimeError",
     "evalue": "No active exception to reraise",
     "output_type": "error",
     "traceback": [
      "\u001B[0;31m---------------------------------------------------------------------------\u001B[0m",
      "\u001B[0;31mRuntimeError\u001B[0m                              Traceback (most recent call last)",
      "\u001B[0;32m/var/folders/lc/s8xp8kz93070tjzfn92435ch0000gn/T/ipykernel_1607/3512260755.py\u001B[0m in \u001B[0;36m<module>\u001B[0;34m\u001B[0m\n\u001B[1;32m      8\u001B[0m \u001B[0mbotOne\u001B[0m \u001B[0;34m=\u001B[0m \u001B[0mAlfaBetaBot\u001B[0m\u001B[0;34m(\u001B[0m\u001B[0;34m)\u001B[0m\u001B[0;34m\u001B[0m\u001B[0;34m\u001B[0m\u001B[0m\n\u001B[1;32m      9\u001B[0m \u001B[0mgame\u001B[0m \u001B[0;34m=\u001B[0m \u001B[0mGame\u001B[0m\u001B[0;34m(\u001B[0m\u001B[0mbotOne\u001B[0m\u001B[0;34m,\u001B[0m \u001B[0mbot\u001B[0m\u001B[0;34m)\u001B[0m\u001B[0;34m\u001B[0m\u001B[0;34m\u001B[0m\u001B[0m\n\u001B[0;32m---> 10\u001B[0;31m \u001B[0mgame\u001B[0m\u001B[0;34m.\u001B[0m\u001B[0mplay_bots\u001B[0m\u001B[0;34m(\u001B[0m\u001B[0;34m)\u001B[0m\u001B[0;34m\u001B[0m\u001B[0;34m\u001B[0m\u001B[0m\n\u001B[0m\u001B[1;32m     11\u001B[0m \u001B[0;31m# w = 0\u001B[0m\u001B[0;34m\u001B[0m\u001B[0;34m\u001B[0m\u001B[0;34m\u001B[0m\u001B[0m\n\u001B[1;32m     12\u001B[0m \u001B[0;31m# b = 0\u001B[0m\u001B[0;34m\u001B[0m\u001B[0;34m\u001B[0m\u001B[0;34m\u001B[0m\u001B[0m\n",
      "\u001B[0;32m~/Desktop/AI-Draughts/Game.py\u001B[0m in \u001B[0;36mplay_bots\u001B[0;34m(self, draw_board)\u001B[0m\n\u001B[1;32m    118\u001B[0m             \u001B[0;32mif\u001B[0m \u001B[0;32mnot\u001B[0m \u001B[0mself\u001B[0m\u001B[0;34m.\u001B[0m\u001B[0mcontinue_game\u001B[0m\u001B[0;34m:\u001B[0m\u001B[0;34m\u001B[0m\u001B[0;34m\u001B[0m\u001B[0m\n\u001B[1;32m    119\u001B[0m                 \u001B[0;32mbreak\u001B[0m\u001B[0;34m\u001B[0m\u001B[0;34m\u001B[0m\u001B[0m\n\u001B[0;32m--> 120\u001B[0;31m             \u001B[0mself\u001B[0m\u001B[0;34m.\u001B[0m\u001B[0mbot_move\u001B[0m\u001B[0;34m(\u001B[0m\u001B[0mself\u001B[0m\u001B[0;34m.\u001B[0m\u001B[0mblack\u001B[0m\u001B[0;34m,\u001B[0m \u001B[0;32mFalse\u001B[0m\u001B[0;34m,\u001B[0m \u001B[0mdraw_board\u001B[0m\u001B[0;34m)\u001B[0m\u001B[0;34m\u001B[0m\u001B[0;34m\u001B[0m\u001B[0m\n\u001B[0m\u001B[1;32m    121\u001B[0m         \u001B[0;32mreturn\u001B[0m \u001B[0mself\u001B[0m\u001B[0;34m.\u001B[0m\u001B[0mresult\u001B[0m\u001B[0;34m\u001B[0m\u001B[0;34m\u001B[0m\u001B[0m\n\u001B[1;32m    122\u001B[0m \u001B[0;34m\u001B[0m\u001B[0m\n",
      "\u001B[0;32m~/Desktop/AI-Draughts/Game.py\u001B[0m in \u001B[0;36mbot_move\u001B[0;34m(self, bot, is_white, draw_board)\u001B[0m\n\u001B[1;32m     49\u001B[0m \u001B[0;34m\u001B[0m\u001B[0m\n\u001B[1;32m     50\u001B[0m         \u001B[0;32mtry\u001B[0m\u001B[0;34m:\u001B[0m\u001B[0;34m\u001B[0m\u001B[0;34m\u001B[0m\u001B[0m\n\u001B[0;32m---> 51\u001B[0;31m             \u001B[0mself\u001B[0m\u001B[0;34m.\u001B[0m\u001B[0mengine\u001B[0m\u001B[0;34m.\u001B[0m\u001B[0mmake_move\u001B[0m\u001B[0;34m(\u001B[0m\u001B[0mmove\u001B[0m\u001B[0;34m)\u001B[0m\u001B[0;34m\u001B[0m\u001B[0;34m\u001B[0m\u001B[0m\n\u001B[0m\u001B[1;32m     52\u001B[0m         \u001B[0;32mexcept\u001B[0m \u001B[0mValueError\u001B[0m \u001B[0;32mas\u001B[0m \u001B[0mve\u001B[0m\u001B[0;34m:\u001B[0m\u001B[0;34m\u001B[0m\u001B[0;34m\u001B[0m\u001B[0m\n\u001B[1;32m     53\u001B[0m             \u001B[0mprint\u001B[0m\u001B[0;34m(\u001B[0m\u001B[0;34m\"Move not allowed - BLACK WINS\"\u001B[0m \u001B[0;32mif\u001B[0m \u001B[0mis_white\u001B[0m \u001B[0;32melse\u001B[0m \u001B[0;34m\"Move not allowed - WHITE WINS\"\u001B[0m\u001B[0;34m)\u001B[0m\u001B[0;34m\u001B[0m\u001B[0;34m\u001B[0m\u001B[0m\n",
      "\u001B[0;32m~/Desktop/AI-Draughts/Engine.py\u001B[0m in \u001B[0;36mmake_move\u001B[0;34m(self, moves)\u001B[0m\n\u001B[1;32m     37\u001B[0m             \u001B[0mself\u001B[0m\u001B[0;34m.\u001B[0m\u001B[0mgame_finished\u001B[0m \u001B[0;34m=\u001B[0m \u001B[0;32mTrue\u001B[0m\u001B[0;34m\u001B[0m\u001B[0;34m\u001B[0m\u001B[0m\n\u001B[1;32m     38\u001B[0m             \u001B[0mself\u001B[0m\u001B[0;34m.\u001B[0m\u001B[0mdraw\u001B[0m \u001B[0;34m=\u001B[0m \u001B[0;32mTrue\u001B[0m\u001B[0;34m\u001B[0m\u001B[0;34m\u001B[0m\u001B[0m\n\u001B[0;32m---> 39\u001B[0;31m             \u001B[0;32mraise\u001B[0m\u001B[0;34m\u001B[0m\u001B[0;34m\u001B[0m\u001B[0m\n\u001B[0m\u001B[1;32m     40\u001B[0m \u001B[0;34m\u001B[0m\u001B[0m\n\u001B[1;32m     41\u001B[0m         \u001B[0mnew_board\u001B[0m \u001B[0;34m=\u001B[0m \u001B[0mself\u001B[0m\u001B[0;34m.\u001B[0m\u001B[0mboard\u001B[0m\u001B[0;34m\u001B[0m\u001B[0;34m\u001B[0m\u001B[0m\n",
      "\u001B[0;31mRuntimeError\u001B[0m: No active exception to reraise"
     ]
    }
   ],
   "source": [
    "# # Suppose you have classes SampleBot, SampleBotOne and want them to play against each other. Run:\n",
    "# board = Board()\n",
    "# board = board.empty_board()\n",
    "# board.world[1][3] = board.newBlack(1,3, True)\n",
    "# board.world[1][5] = board.newWhite(1,5, True)\n",
    "# board.world[1][5] = board.newWhite(1,7)\n",
    "bot = AlfaBetaBot()\n",
    "botOne = AlfaBetaBot()\n",
    "game = Game(botOne, bot)\n",
    "game.play_bots()\n",
    "# w = 0\n",
    "# b = 0\n",
    "# for x in range(1, 10):\n",
    "#     game = Game(bot, botOne)\n",
    "#     game.play_bots()\n",
    "#     # if res['winner'] == 'white':\n",
    "#     #     w += 1\n",
    "#     # else:\n",
    "#     #     b += 1\n",
    "#     print(w)\n",
    "#     print(b)\n"
   ]
  },
  {
   "cell_type": "code",
   "execution_count": null,
   "id": "greek-reporter",
   "metadata": {
    "pycharm": {
     "is_executing": true
    }
   },
   "outputs": [],
   "source": [
    "\n",
    "\n",
    "\n"
   ]
  },
  {
   "cell_type": "code",
   "execution_count": null,
   "id": "gorgeous-philadelphia",
   "metadata": {
    "pycharm": {
     "is_executing": true
    }
   },
   "outputs": [],
   "source": []
  },
  {
   "cell_type": "code",
   "execution_count": null,
   "id": "demanding-correspondence",
   "metadata": {
    "pycharm": {
     "is_executing": true
    }
   },
   "outputs": [],
   "source": []
  },
  {
   "cell_type": "code",
   "execution_count": null,
   "id": "typical-principal",
   "metadata": {
    "pycharm": {
     "is_executing": true
    }
   },
   "outputs": [],
   "source": []
  },
  {
   "cell_type": "code",
   "execution_count": null,
   "id": "enhanced-finnish",
   "metadata": {
    "pycharm": {
     "is_executing": true
    }
   },
   "outputs": [],
   "source": []
  },
  {
   "cell_type": "code",
   "execution_count": null,
   "id": "d0334095",
   "metadata": {
    "pycharm": {
     "is_executing": true
    }
   },
   "outputs": [],
   "source": []
  },
  {
   "cell_type": "code",
   "execution_count": null,
   "id": "02b6c9ba",
   "metadata": {
    "pycharm": {
     "is_executing": true
    }
   },
   "outputs": [],
   "source": []
  }
 ],
 "metadata": {
  "kernelspec": {
   "display_name": "Python 3 (ipykernel)",
   "language": "python",
   "name": "python3"
  },
  "language_info": {
   "codemirror_mode": {
    "name": "ipython",
    "version": 3
   },
   "file_extension": ".py",
   "mimetype": "text/x-python",
   "name": "python",
   "nbconvert_exporter": "python",
   "pygments_lexer": "ipython3",
   "version": "3.9.6"
  }
 },
 "nbformat": 4,
 "nbformat_minor": 5
}